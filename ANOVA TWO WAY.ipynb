{
 "cells": [
  {
   "cell_type": "code",
   "execution_count": 7,
   "id": "3337a499",
   "metadata": {},
   "outputs": [
    {
     "data": {
      "text/html": [
       "<div>\n",
       "<style scoped>\n",
       "    .dataframe tbody tr th:only-of-type {\n",
       "        vertical-align: middle;\n",
       "    }\n",
       "\n",
       "    .dataframe tbody tr th {\n",
       "        vertical-align: top;\n",
       "    }\n",
       "\n",
       "    .dataframe thead th {\n",
       "        text-align: right;\n",
       "    }\n",
       "</style>\n",
       "<table border=\"1\" class=\"dataframe\">\n",
       "  <thead>\n",
       "    <tr style=\"text-align: right;\">\n",
       "      <th></th>\n",
       "      <th>variety_1</th>\n",
       "      <th>variety_2</th>\n",
       "      <th>variety_3</th>\n",
       "    </tr>\n",
       "  </thead>\n",
       "  <tbody>\n",
       "    <tr>\n",
       "      <th>Type_1</th>\n",
       "      <td>64</td>\n",
       "      <td>72</td>\n",
       "      <td>74</td>\n",
       "    </tr>\n",
       "    <tr>\n",
       "      <th>Type_2</th>\n",
       "      <td>55</td>\n",
       "      <td>57</td>\n",
       "      <td>47</td>\n",
       "    </tr>\n",
       "    <tr>\n",
       "      <th>Type_3</th>\n",
       "      <td>59</td>\n",
       "      <td>66</td>\n",
       "      <td>58</td>\n",
       "    </tr>\n",
       "    <tr>\n",
       "      <th>Type_4</th>\n",
       "      <td>58</td>\n",
       "      <td>57</td>\n",
       "      <td>53</td>\n",
       "    </tr>\n",
       "  </tbody>\n",
       "</table>\n",
       "</div>"
      ],
      "text/plain": [
       "        variety_1  variety_2  variety_3\n",
       "Type_1         64         72         74\n",
       "Type_2         55         57         47\n",
       "Type_3         59         66         58\n",
       "Type_4         58         57         53"
      ]
     },
     "execution_count": 7,
     "metadata": {},
     "output_type": "execute_result"
    }
   ],
   "source": [
    "import pandas as pd\n",
    "data = pd.read_excel('fertlizer.xlsx', index_col=0)\n",
    "data"
   ]
  },
  {
   "cell_type": "code",
   "execution_count": 8,
   "id": "dcbe4760",
   "metadata": {},
   "outputs": [
    {
     "name": "stdout",
     "output_type": "stream",
     "text": [
      "{'Fc': 1.556, 'Fr': 9.222}\n"
     ]
    }
   ],
   "source": [
    "def compute_anova_parameter(data):\n",
    "    # Compute the sum of all data in column\n",
    "    variety_sum = data.sum()\n",
    "    #compute the sum of all data in row\n",
    "    type_sum = data.sum(axis=True)\n",
    "    \n",
    "    #NUmber of ligne of data\n",
    "    nbre_row = data.shape[0]\n",
    "    #Number of column of data\n",
    "    nbre_column = data.shape[1]\n",
    "    \n",
    "    #Correlation Factor\n",
    "    correlation_factor = type_sum.sum()**2/(nbre_column*nbre_row)\n",
    "    \n",
    "    # Total sum of square\n",
    "    sst = (data**2).sum().sum() - correlation_factor\n",
    "    \n",
    "    # Total sum of square of row effect\n",
    "    ssr = (type_sum**2).sum()/nbre_column - correlation_factor\n",
    "    \n",
    "    # Total sum of squares of column effect\n",
    "    ssc = (variety_sum**2).sum()/nbre_row - correlation_factor\n",
    "    \n",
    "    # Sum square Error\n",
    "    sse = sst-ssc-ssr\n",
    "    \n",
    "    # Mean Square Column\n",
    "    msc = ssc/(nbre_column-1)\n",
    "    \n",
    "    # Mean square Row\n",
    "    msr = ssr/(nbre_row-1)\n",
    "    \n",
    "    #Mean Square Error\n",
    "    mse = sse/((nbre_column-1)*(nbre_row-1))\n",
    "    \n",
    "    # Calculation of Fisher parameter\n",
    "    Fc = round(msc/mse,3)\n",
    "    Fr = round(msr/mse,3)\n",
    "    return {\"Fc\":Fc, \"Fr\":Fr}\n",
    "    \n",
    "print(compute_anova_parameter(data))\n",
    "\n",
    "    "
   ]
  }
 ],
 "metadata": {
  "kernelspec": {
   "display_name": "datascienceenv",
   "language": "python",
   "name": "datascienceenv"
  },
  "language_info": {
   "codemirror_mode": {
    "name": "ipython",
    "version": 3
   },
   "file_extension": ".py",
   "mimetype": "text/x-python",
   "name": "python",
   "nbconvert_exporter": "python",
   "pygments_lexer": "ipython3",
   "version": "3.9.6"
  }
 },
 "nbformat": 4,
 "nbformat_minor": 5
}
